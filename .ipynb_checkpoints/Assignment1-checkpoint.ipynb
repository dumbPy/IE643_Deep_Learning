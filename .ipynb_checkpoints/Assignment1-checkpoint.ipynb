{
 "cells": [
  {
   "cell_type": "code",
   "execution_count": 1,
   "metadata": {},
   "outputs": [],
   "source": [
    "import numpy as np\n",
    "import random\n",
    "from np.linalg import norm"
   ]
  },
  {
   "cell_type": "code",
   "execution_count": 2,
   "metadata": {},
   "outputs": [],
   "source": [
    "sample_pos=np.random.multivariate_normal(mean=[1]*100,\n",
    "                                         cov=0.5*np.identity(100), \n",
    "                                         size=50000)\n",
    "sample_neg=np.random.multivariate_normal(mean=[-0.4]*100,\n",
    "                                         cov=0.75*np.identity(100),\n",
    "                                         size=50000)"
   ]
  },
  {
   "cell_type": "code",
   "execution_count": 19,
   "metadata": {},
   "outputs": [
    {
     "data": {
      "text/plain": [
       "50000"
      ]
     },
     "execution_count": 19,
     "metadata": {},
     "output_type": "execute_result"
    }
   ],
   "source": [
    "sample_neg.shape[0]"
   ]
  },
  {
   "cell_type": "code",
   "execution_count": 22,
   "metadata": {},
   "outputs": [],
   "source": [
    "#merge the positive and negative data into list of (vector,label) tuples\n",
    "data=[(sample_pos[row],1) for row in range(sample_pos.shape[0])]+ \\\n",
    "     [(sample_neg[row],0) for row in range(sample_neg.shape[0])]"
   ]
  },
  {
   "cell_type": "code",
   "execution_count": 28,
   "metadata": {},
   "outputs": [],
   "source": [
    "random.shuffle(data) #shuffles data inplace"
   ]
  },
  {
   "cell_type": "markdown",
   "metadata": {},
   "source": [
    "### Projection Algorithm\n",
    "for any given weight vector $w^t \\in \\mathbb{R}^{100}$, it's projection on the closed set $C =\\{w \\in \\mathbb{R}^{100} : ||w||_2\\leq1\\}$\n",
    "\n",
    "$$\\Pi_c[w^t] = \\begin{cases} \n",
    "                w^t \\quad & if \\quad ||w^t||\\leq 1 \\\\\\\\\n",
    "                \\frac{w^t}{||w^t||_2} \\quad & otherwise\n",
    "                \\end{cases}$$"
   ]
  },
  {
   "cell_type": "code",
   "execution_count": null,
   "metadata": {},
   "outputs": [],
   "source": [
    "def projection(W): return W/norm(W) if norm(W)>1 else return W"
   ]
  },
  {
   "cell_type": "code",
   "execution_count": null,
   "metadata": {},
   "outputs": [],
   "source": [
    "class Q1Model(object):\n",
    "    def __init__(self, k, data, eta):\n",
    "        self.k, self.data, self.eta=k, data, eta\n",
    "        #Initial Weight Matrix by Xavier Initialization\n",
    "        self.W=np.random.multivariate_normal(mean=[0]*100,\n",
    "                                             cov=0.01*np.identity(100),\n",
    "                                             size=1)\n",
    "        self.bestWeight=self.W.copy()\n",
    "        self.loss_history=[]\n",
    "        self.bestLoss=np.infty #Will be updated by next line\n",
    "        self.forward_on_whole_data() #Calc Loss on initialized weights\n",
    "        \n",
    "    def calc_loss(self, i):\n",
    "        \"\"\"Calculate loss in current setting for given index of data\"\"\"\n",
    "        y_actual=self.data[i][1]\n",
    "        x=self.data[i][0]\n",
    "        return max(0, self.k-y_actual*np.dot(self.W,x))\n",
    "        \n",
    "    def step(self, i): #i is index in data\n",
    "        loss=self.calc_loss(i)\n",
    "        if loss:\n",
    "            gradient=y_actual*x                     #Gradient\n",
    "            self.W=self.W-self.eta*gradient         #Weight Update\n",
    "            W=projection(W)                         #Projection\n",
    "        self.forward_on_whole_data()        #Update loss on new weights\n",
    "            \n",
    "    def forward_on_whole_data(self):\n",
    "        \"\"\"Calculates Loss on whole data using current weights\"\"\"\n",
    "        totalLoss=sum([calc_loss[i] for i in range(len(data))])\n",
    "        self.loss_history.append(totalLoss)\n",
    "        if totalLoss<self.bestLoss: #update best weight\n",
    "            self.bestLoss=totalLoss\n",
    "            self.bestWeight=self.W.copy()\n",
    "    def fit(self):\n",
    "        for i in range(len(data)): self.step(i)\n",
    "    \n",
    "    def get_regret(self):\n",
    "        \"\"\"Returns Regret at each update\"\"\"\n",
    "        return np.asarray(loss_history)-self.bestLoss\n",
    "        \n",
    "    "
   ]
  }
 ],
 "metadata": {
  "kernelspec": {
   "display_name": "Python 3",
   "language": "python",
   "name": "python3"
  },
  "language_info": {
   "codemirror_mode": {
    "name": "ipython",
    "version": 3
   },
   "file_extension": ".py",
   "mimetype": "text/x-python",
   "name": "python",
   "nbconvert_exporter": "python",
   "pygments_lexer": "ipython3",
   "version": "3.6.5"
  }
 },
 "nbformat": 4,
 "nbformat_minor": 2
}
